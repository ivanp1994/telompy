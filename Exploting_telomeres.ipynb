{
 "cells": [
  {
   "cell_type": "markdown",
   "id": "40a939aa",
   "metadata": {},
   "source": [
    "# Updated telomere calculation with extra bonuses!"
   ]
  },
  {
   "cell_type": "code",
   "execution_count": 7,
   "id": "4592fc3b",
   "metadata": {},
   "outputs": [
    {
     "data": {
      "text/plain": [
       "1     146\n",
       "2     175\n",
       "3     178\n",
       "4     203\n",
       "5     124\n",
       "6     131\n",
       "7     183\n",
       "8     136\n",
       "9     136\n",
       "10    197\n",
       "11    155\n",
       "12    149\n",
       "13    186\n",
       "14    164\n",
       "15    177\n",
       "16    187\n",
       "17    193\n",
       "18    177\n",
       "19    131\n",
       "20    120\n",
       "21     77\n",
       "Name: RefContigID, dtype: int64"
      ]
     },
     "metadata": {},
     "output_type": "display_data"
    },
    {
     "name": "stdout",
     "output_type": "stream",
     "text": [
      "3325\n"
     ]
    }
   ],
   "source": [
    "import os\n",
    "import pandas as pd\n",
    "import seaborn as sns\n",
    "from telompy import calculate_telomere_lengths\n",
    "from telompy.funcs import fish_last_label, joinpaths\n",
    "PATH =  r\"C:\\#BIONANO_DATA\\PROBLEMATIC_TELOMER\"\n",
    "GAP_SIZE = 100000\n",
    "\n",
    "def read_telomeres(path=PATH,gap_size=GAP_SIZE):\n",
    "    if os.path.isfile(\"telomere_lengths/telomeres.csv\"):\n",
    "        telomeres_gap = pd.read_csv(\"telomere_lengths/telomeres.csv\")\n",
    "        return telomeres_gap.drop_duplicates(\"MoleculeID\")\n",
    "    telomeres_gap = calculate_telomere_lengths(path=path,gap_size=gap_size) #it returns a list -.-\n",
    "    pd.concat(telomeres,ignore_index=True).to_csv(\"telomere_lengths/telomeres.csv\",index=False)\n",
    "    return read_telomeres(path=path,gap_size=gap_size)\n",
    "\n",
    "data = read_telomeres()\n",
    "display(data['RefContigID'].value_counts().sort_index())\n",
    "print(data[\"RefContigID\"].value_counts().sum())"
   ]
  },
  {
   "cell_type": "markdown",
   "id": "92a523cc",
   "metadata": {},
   "source": [
    "# Explanation of new stuff\n",
    "\n",
    "We've modified the algo to account for problematic stuff (./Problematic_XXX.ipynb).\n",
    "For example, when the last label on the reference is NOT the last aligned label on the contig, the algo doesn't work.\n",
    "We've modified it so that we ignore last label on contig, and only account for the last ALIGNED label on contig.\n",
    "\n",
    "Then we find all molecules that are aligned to said last ALIGNED label, and we account for position of label that aligns to the last ALIGNED label on contig, and not just starting point. Example:\n",
    "\n",
    "<span style=\"color:black\">REF: ---------|-------|---------------**|**----------]</span>\n",
    "\n",
    "<span style=\"color:red\">CTG: -----------------|---------------|------------|---]</span>\n",
    "\n",
    "<span style=\"color:blue\">ML1: -----------------|----------------------------|---]</span>\n",
    "\n",
    "<span style=\"color:blue\">ML2: -----------------|---------------|-------------]</span>\n",
    "\n",
    "<span style=\"color:blue\">ML3: -----------------|---------------|------------|---]</span>\n",
    "\n",
    "\n",
    "In the above example, contig (CTG) has extra label after the last label on chromosome. We'll call that LLC (last label contig).\n",
    "However, the last aligned label on contig (LALC) is actually the second last label.\n",
    "Molecule 1 aligns to LLC, but does not align to LALC. Molecule 2 aligns to LALC, but does not align to LLC, and Molecule 3 aligns to all 3. In previous algo, we simply used `QryStartPos` or `QryEndPos` to calculate the length, but this does not account for unpaired molecule - this will erroneously use ML1 and ML3. ML1 should not be used (as it does not align to REF's last label via CTG) and it will use **first label** (or the last) position of ML3 instead of **second label** (or the second last).\n",
    "\n",
    "Now:\n",
    "\n",
    "<span style=\"color:black\">REF: --------|--------|---------]</span>\n",
    "\n",
    "<span style=\"color:red\">CTG: --------|--------|---|----------]</span>\n",
    "\n",
    "<span style=\"color:blue\">ML1: -----------------|---|----|--------|---]</span>\n",
    "\n",
    "<span style=\"color:green\">TELOMERE: .......|---------------------]</span>\n",
    "\n",
    "\n",
    "From the above, we can see that we should not look at last (or first) labels, but last aligned labels.\n",
    "To that extent, we will track:\n",
    "1. Number of labels on reference that are unpaired (AFTER the last reference-contig pair)\n",
    "2. Number of labels on contig that are unpaired (AFTER the last refrence-contig pair)\n",
    "3. Number of labels on molecule that are unpaired (AFTER the last reference-contig par, or its contig-molecule pair)\n",
    "\n",
    "We can also correct telomeres:\n",
    "\n",
    "# Telomere Correction\n",
    "\n",
    "We can see annotations of telomeres, and their exact position via `TableBrowser` on the link: https://genome.ucsc.edu/cgi-bin/hgTables\n",
    "\n",
    "We set `genome` to Mouse, `assembly` to GRCm38/mm10 (this is our reference), `group` to All Tables, `database` to mm10, then `table` to gap. From `filter` we set it to `type` telomere.\n",
    "\n",
    "One thing we can see is that there are 2N telomeres - telomeres at the left end of the chromosomes and at the right end of the chromosomes. Telomeres are annotated as gaps, and the `gap size` is set to be 100,000 (10^5). \n",
    "\n",
    "The left telomeres start at 0 and end at 10^5. The right telomeres end at end of the chromosome and start at the end of chromosome subtracted for the gap size.\n",
    "\n",
    "Therefore we can calculate the position of telomeres if we know `gap size`.\n",
    "We can then correct telomeres. For example:\n",
    "\n",
    "\n",
    "<span style=\"color:black\">REF: -------------------|-------x----------]</span>\n",
    "\n",
    "<span style=\"color:blue\">ML1: -------------------|----|------|-----------------]</span>\n",
    "\n",
    "<span style=\"color:pink\">TEL: ...................|-------x---------------------]</span>\n",
    "\n",
    "<span style=\"color:purple\">OFF: ..................|-------x......................</span>\n",
    "\n",
    "<span style=\"color:green\">GAP: ...........................x---------------------]</span>\n",
    "\n",
    "\n",
    "In the above, to get the telomere length we subtract `]` from `|`. But to get actual length we sutract the `x`.\n",
    "(The difference `]-x` is the gap size and telomeres are annotated as gaps)\n",
    "\n",
    "It's very unlikely that the last label is also the start of chromosome.\n",
    "\n",
    "\n",
    "\n",
    "\n",
    "\n",
    "\n",
    "\n",
    "# The columns are\n",
    "\n",
    "## The identity (ID) columns\n",
    " - **RefContigID**:\n",
    "    The chromosome ID.\n",
    " - **MoleculeID**:\n",
    "     The ID of molecule (found in `output/contigs/annotation/refine1_ExperimentLabel/EXP_REFINEFINAL1_contig{x}_q.cmap`)\n",
    " - **ContigID**:\n",
    "     The ID of contig assembled from molecule (found in `output/contigs/annotation/refine1_ExperimentLabel/EXP_REFINEFINAL1_contig{x}.xmap` as `RefContigID` or in  `output/contigs/annotation/exp_refineFinal1_merged.xmap` as `QryContigID`) \n",
    "     \n",
    "## Orientation and Confidence columns\n",
    " - **MoleculeOrientation**:\n",
    "     Orientation of assembly Molecule-Contig\n",
    " - **ContigOrientation**:\n",
    "     Orientation of assembly Contig-Reference\n",
    " - **MoleculeConfidence**:\n",
    "     Confidence of assembly Molecule-Contig\n",
    "     \n",
    "## Label Columns\n",
    "- **UnpairedMoleculeLabels**\n",
    "    Number of labels after/before the last/first aligned label on the molecule that aligns to the last aligned label on contig that aligns to the last aligned label on the reference.\n",
    "    \n",
    "- **UnpairedReferenceLabels**\n",
    "    Number of labels after last label of the reference that aligns in contig. When there are labels on the reference that do not align with contigs! For example, with chromosome 20 contains 8 labels after last aligned label.\n",
    "\n",
    "- **UnpairedContigLabels**:\n",
    "    Number of labels on the contig that are AFTERthe first aligned label of contig to the last label of the Reference to the Reference. For example, in the above example (as well as chrom15 of N22-01/N22-01-11) is one.\n",
    "     \n",
    "## TelomereLength columns\n",
    "\n",
    "- **TelomereLen**:\n",
    "    Telomere Lengths of molecule as calculated from the formula.\n",
    "    \n",
    "- **TelomereLen_corr**:\n",
    "    Corrected telomere length.\n",
    "    \n",
    "## Extra columns:\n",
    "\n",
    " - **Aligned label position**:\n",
    "     The position of the last aligned label on the chromosome.\n",
    "     \n",
    " - **MoleculeLen**:\n",
    "    The total length of molecule.\n",
    "    \n",
    "\n"
   ]
  },
  {
   "cell_type": "code",
   "execution_count": 44,
   "id": "b04860f6",
   "metadata": {},
   "outputs": [
    {
     "data": {
      "text/plain": [
       "1     146\n",
       "2     175\n",
       "3     178\n",
       "4     203\n",
       "5     124\n",
       "6     131\n",
       "7     183\n",
       "8     136\n",
       "9     136\n",
       "10    197\n",
       "11    155\n",
       "12    149\n",
       "13    186\n",
       "14    164\n",
       "15    177\n",
       "16    187\n",
       "17    193\n",
       "18    177\n",
       "19    131\n",
       "20    120\n",
       "21     77\n",
       "Name: RefContigID, dtype: int64"
      ]
     },
     "metadata": {},
     "output_type": "display_data"
    },
    {
     "name": "stdout",
     "output_type": "stream",
     "text": [
      "3325\n"
     ]
    }
   ],
   "source": [
    "display(data['RefContigID'].value_counts().sort_index())\n",
    "print(data[\"RefContigID\"].value_counts().sum())"
   ]
  },
  {
   "cell_type": "markdown",
   "id": "c6f55126",
   "metadata": {},
   "source": [
    "From the above, we can see that we have a bunch molecules, and therefore a bunch of telomeres! \n",
    "The formula works. Let's see the number of unpaired labels.\n"
   ]
  },
  {
   "cell_type": "code",
   "execution_count": 45,
   "id": "36b524ee",
   "metadata": {},
   "outputs": [
    {
     "data": {
      "text/plain": [
       "<matplotlib.lines.Line2D at 0x1aba5e2f160>"
      ]
     },
     "execution_count": 45,
     "metadata": {},
     "output_type": "execute_result"
    },
    {
     "data": {
      "image/png": "[encoded data removed]",
      "text/plain": [
       "<Figure size 432x288 with 1 Axes>"
      ]
     },
     "metadata": {
      "needs_background": "light"
     },
     "output_type": "display_data"
    }
   ],
   "source": [
    "ax = sns.scatterplot(data=data.drop_duplicates([\"RefContigID\",\"UnpairedReferenceLabels\"]),\n",
    "              x=\"RefContigID\",y=\"UnpairedReferenceLabels\")\n",
    "ax.set_xticks(range(1,22))\n",
    "ax.grid(which='major',axis=\"x\", linestyle='-', linewidth='0.5', color='black',zorder=0)\n",
    "ax.axhline(0,color=\"black\",lw=1)"
   ]
  },
  {
   "cell_type": "markdown",
   "id": "d9c1d586",
   "metadata": {},
   "source": [
    "There are unpaired ReferenceLabels on chromosomes 4, 14, 20, 21.\n"
   ]
  },
  {
   "cell_type": "code",
   "execution_count": 46,
   "id": "3b26a813",
   "metadata": {},
   "outputs": [
    {
     "data": {
      "text/plain": [
       "<matplotlib.lines.Line2D at 0x1aba5a22e50>"
      ]
     },
     "execution_count": 46,
     "metadata": {},
     "output_type": "execute_result"
    },
    {
     "data": {
      "image/png": "[encoded data removed]",
      "text/plain": [
       "<Figure size 432x288 with 1 Axes>"
      ]
     },
     "metadata": {
      "needs_background": "light"
     },
     "output_type": "display_data"
    }
   ],
   "source": [
    "ax = sns.scatterplot(data=data.drop_duplicates([\"RefContigID\",\"QryContigID\"]),\n",
    "                x=\"RefContigID\",y=\"UnpairedContigLabels\")\n",
    "ax.set_xticks(range(1,22))\n",
    "ax.grid(which='major',axis=\"x\", linestyle='-', linewidth='0.5', color='black',zorder=0)\n",
    "ax.axhline(0,color=\"black\",lw=1)"
   ]
  },
  {
   "cell_type": "markdown",
   "id": "36d1339a",
   "metadata": {},
   "source": [
    "There are extra contig labels on chromosome 4, 10, 14, 15, 20, 21.\n",
    "Of the above, 4, 14,20,21 have unpaired references labels - meaning 10 and 15 have extra contig labels."
   ]
  },
  {
   "cell_type": "markdown",
   "id": "c88ea627",
   "metadata": {},
   "source": [
    "### Telomere Lengths!!!"
   ]
  },
  {
   "cell_type": "code",
   "execution_count": 47,
   "id": "6cd98996",
   "metadata": {},
   "outputs": [
    {
     "name": "stderr",
     "output_type": "stream",
     "text": [
      "[INFO] Using categorical units to plot a list of strings that are all parsable as floats or dates. If these strings should be plotted as numbers, cast to the appropriate data type before plotting.\n",
      "[INFO] Using categorical units to plot a list of strings that are all parsable as floats or dates. If these strings should be plotted as numbers, cast to the appropriate data type before plotting.\n",
      "[INFO] Using categorical units to plot a list of strings that are all parsable as floats or dates. If these strings should be plotted as numbers, cast to the appropriate data type before plotting.\n",
      "[INFO] Using categorical units to plot a list of strings that are all parsable as floats or dates. If these strings should be plotted as numbers, cast to the appropriate data type before plotting.\n"
     ]
    },
    {
     "data": {
      "text/plain": [
       "RefContigID\n",
       "1      3955\n",
       "2      1809\n",
       "3      2265\n",
       "4      2886\n",
       "5      2621\n",
       "6      1559\n",
       "7      1231\n",
       "8      3197\n",
       "9      3999\n",
       "10     1339\n",
       "11     1120\n",
       "12     2494\n",
       "13     2687\n",
       "14     2934\n",
       "15     4264\n",
       "16     1938\n",
       "17     1736\n",
       "18     2654\n",
       "19     2268\n",
       "20    12200\n",
       "21     2571\n",
       "Name: TelomereLen, dtype: int64"
      ]
     },
     "metadata": {},
     "output_type": "display_data"
    },
    {
     "data": {
      "image/png": "[encoded data removed]",
      "text/plain": [
       "<Figure size 432x288 with 1 Axes>"
      ]
     },
     "metadata": {
      "needs_background": "light"
     },
     "output_type": "display_data"
    }
   ],
   "source": [
    "ax = sns.pointplot(x='RefContigID', y='TelomereLen', estimator=min, data=data, color='blue', label='Min')\n",
    "sns.pointplot(x='RefContigID', y='TelomereLen', estimator=max, data=data, color='red', label='Max',ax=ax)\n",
    "ax.set_yscale(\"log\")\n",
    "\n",
    "display(data.groupby(\"RefContigID\")[\"TelomereLen\"].min())\n",
    "    "
   ]
  },
  {
   "cell_type": "markdown",
   "id": "fed481fc",
   "metadata": {},
   "source": [
    "Let's do the same for corrected TelomereLength.\n",
    "\n",
    "\n",
    "\n"
   ]
  },
  {
   "cell_type": "code",
   "execution_count": 48,
   "id": "a4040cb0",
   "metadata": {},
   "outputs": [
    {
     "name": "stderr",
     "output_type": "stream",
     "text": [
      "[INFO] Using categorical units to plot a list of strings that are all parsable as floats or dates. If these strings should be plotted as numbers, cast to the appropriate data type before plotting.\n",
      "[INFO] Using categorical units to plot a list of strings that are all parsable as floats or dates. If these strings should be plotted as numbers, cast to the appropriate data type before plotting.\n",
      "[INFO] Using categorical units to plot a list of strings that are all parsable as floats or dates. If these strings should be plotted as numbers, cast to the appropriate data type before plotting.\n",
      "[INFO] Using categorical units to plot a list of strings that are all parsable as floats or dates. If these strings should be plotted as numbers, cast to the appropriate data type before plotting.\n"
     ]
    },
    {
     "data": {
      "text/plain": [
       "RefContigID\n",
       "1       3136\n",
       "2     -11363\n",
       "3      -8039\n",
       "4     -53543\n",
       "5     -11796\n",
       "6     -49032\n",
       "7      -6756\n",
       "8       2778\n",
       "9        299\n",
       "10        -8\n",
       "11       873\n",
       "12    -15494\n",
       "13       603\n",
       "14      1172\n",
       "15      2112\n",
       "16      -833\n",
       "17       643\n",
       "18      1182\n",
       "19       524\n",
       "20    -40834\n",
       "21   -800900\n",
       "Name: TelomereLen_corr, dtype: int64"
      ]
     },
     "metadata": {},
     "output_type": "display_data"
    },
    {
     "name": "stdout",
     "output_type": "stream",
     "text": [
      "chromosomes with NEGATIVE telomere lengths: [2, 3, 4, 5, 6, 7, 10, 12, 16, 20, 21]\n",
      "chromosomes with POSITIVE telomere lengths: [1, 8, 9, 11, 13, 14, 15, 17, 18, 19]\n"
     ]
    },
    {
     "data": {
      "image/png": "[encoded data removed]",
      "text/plain": [
       "<Figure size 432x288 with 1 Axes>"
      ]
     },
     "metadata": {
      "needs_background": "light"
     },
     "output_type": "display_data"
    }
   ],
   "source": [
    "ax = sns.pointplot(x='RefContigID', y='TelomereLen_corr', estimator=min, data=data, color='blue', label='Min')\n",
    "sns.pointplot(x='RefContigID', y='TelomereLen_corr', estimator=max, data=data, color='red', label='Max',ax=ax)\n",
    "ax.set_yscale(\"log\")\n",
    "\n",
    "mintelcorr = data.groupby(\"RefContigID\")[\"TelomereLen_corr\"].min() \n",
    "display(mintelcorr)\n",
    "negative =mintelcorr[mintelcorr<=0].index.to_list()\n",
    "positive =mintelcorr[mintelcorr>0].index.to_list()\n",
    "\n",
    "print(f\"chromosomes with NEGATIVE telomere lengths: {negative}\")\n",
    "\n",
    "print(f\"chromosomes with POSITIVE telomere lengths: {positive}\")\n"
   ]
  },
  {
   "cell_type": "code",
   "execution_count": 61,
   "id": "fa9c012e",
   "metadata": {},
   "outputs": [
    {
     "data": {
      "text/plain": [
       "<AxesSubplot:xlabel='MoleculeLen', ylabel='TelomereLen_corr'>"
      ]
     },
     "execution_count": 61,
     "metadata": {},
     "output_type": "execute_result"
    },
    {
     "data": {
      "image/png": "[encoded data removed]",
      "text/plain": [
       "<Figure size 432x288 with 1 Axes>"
      ]
     },
     "metadata": {
      "needs_background": "light"
     },
     "output_type": "display_data"
    }
   ],
   "source": [
    "# More specific chromosome\n",
    "\n",
    "sixer = data.loc[data.RefContigID==6]\n",
    "sixer['Negative'] = sixer['TelomereLen_corr'] < 0\n",
    "\n",
    "#lets see if correlation between MolLen and corr\n",
    "\n",
    "sns.regplot(data=sixer,x=\"MoleculeLen\",y=\"TelomereLen_corr\",)"
   ]
  },
  {
   "cell_type": "code",
   "execution_count": 63,
   "id": "aebf6a0f",
   "metadata": {},
   "outputs": [
    {
     "data": {
      "text/plain": [
       "<AxesSubplot:xlabel='MoleculeLen', ylabel='TelomereLen_corr'>"
      ]
     },
     "execution_count": 63,
     "metadata": {},
     "output_type": "execute_result"
    },
    {
     "data": {
      "image/png": "[encoded data removed]",
      "text/plain": [
       "<Figure size 432x288 with 1 Axes>"
      ]
     },
     "metadata": {
      "needs_background": "light"
     },
     "output_type": "display_data"
    }
   ],
   "source": [
    "sns.scatterplot(data=sixer,x=\"MoleculeLen\",y=\"TelomereLen_corr\",hue=\"Negative\")"
   ]
  },
  {
   "cell_type": "markdown",
   "id": "ec195c09",
   "metadata": {},
   "source": [
    "What do negative telomeres mean? If going by the above, it means that the span of molecules AFTER the first label aligns to the last label on reference is smaller than the difference between TelomereStart and LabelStart.\n",
    "\n",
    "Hmmmm."
   ]
  },
  {
   "cell_type": "code",
   "execution_count": 84,
   "id": "b2baee7c",
   "metadata": {},
   "outputs": [
    {
     "data": {
      "text/html": [
       "<div>\n",
       "<style scoped>\n",
       "    .dataframe tbody tr th:only-of-type {\n",
       "        vertical-align: middle;\n",
       "    }\n",
       "\n",
       "    .dataframe tbody tr th {\n",
       "        vertical-align: top;\n",
       "    }\n",
       "\n",
       "    .dataframe thead th {\n",
       "        text-align: right;\n",
       "    }\n",
       "</style>\n",
       "<table border=\"1\" class=\"dataframe\">\n",
       "  <thead>\n",
       "    <tr style=\"text-align: right;\">\n",
       "      <th></th>\n",
       "      <th>RefContigID</th>\n",
       "      <th>QryContigID</th>\n",
       "      <th>AlignedLabelPosition</th>\n",
       "      <th>LastReferencePosition</th>\n",
       "      <th>UnpairedReferenceLabels</th>\n",
       "      <th>RefLen</th>\n",
       "      <th>TelomereStart</th>\n",
       "      <th>Offset</th>\n",
       "      <th>PositiveTelomeres</th>\n",
       "      <th>NegativeTelomeres</th>\n",
       "    </tr>\n",
       "  </thead>\n",
       "  <tbody>\n",
       "    <tr>\n",
       "      <th>0</th>\n",
       "      <td>1</td>\n",
       "      <td>12</td>\n",
       "      <td>195371152.0</td>\n",
       "      <td>195371152.0</td>\n",
       "      <td>0</td>\n",
       "      <td>195471971.0</td>\n",
       "      <td>195371971.0</td>\n",
       "      <td>-819.0</td>\n",
       "      <td>146</td>\n",
       "      <td>0</td>\n",
       "    </tr>\n",
       "    <tr>\n",
       "      <th>2</th>\n",
       "      <td>2</td>\n",
       "      <td>21</td>\n",
       "      <td>182000051.0</td>\n",
       "      <td>182000051.0</td>\n",
       "      <td>0</td>\n",
       "      <td>182113224.0</td>\n",
       "      <td>182013224.0</td>\n",
       "      <td>-13173.0</td>\n",
       "      <td>168</td>\n",
       "      <td>7</td>\n",
       "    </tr>\n",
       "    <tr>\n",
       "      <th>4</th>\n",
       "      <td>3</td>\n",
       "      <td>31</td>\n",
       "      <td>159929375.5</td>\n",
       "      <td>159929375.5</td>\n",
       "      <td>0</td>\n",
       "      <td>160039680.0</td>\n",
       "      <td>159939680.0</td>\n",
       "      <td>-10304.5</td>\n",
       "      <td>173</td>\n",
       "      <td>5</td>\n",
       "    </tr>\n",
       "    <tr>\n",
       "      <th>8</th>\n",
       "      <td>5</td>\n",
       "      <td>211</td>\n",
       "      <td>151720266.0</td>\n",
       "      <td>151720266.0</td>\n",
       "      <td>0</td>\n",
       "      <td>151834684.0</td>\n",
       "      <td>151734684.0</td>\n",
       "      <td>-14418.0</td>\n",
       "      <td>115</td>\n",
       "      <td>9</td>\n",
       "    </tr>\n",
       "    <tr>\n",
       "      <th>10</th>\n",
       "      <td>6</td>\n",
       "      <td>91</td>\n",
       "      <td>149585954.0</td>\n",
       "      <td>149585954.0</td>\n",
       "      <td>0</td>\n",
       "      <td>149736546.0</td>\n",
       "      <td>149636546.0</td>\n",
       "      <td>-50592.0</td>\n",
       "      <td>41</td>\n",
       "      <td>90</td>\n",
       "    </tr>\n",
       "    <tr>\n",
       "      <th>12</th>\n",
       "      <td>7</td>\n",
       "      <td>152</td>\n",
       "      <td>145333471.0</td>\n",
       "      <td>145333471.0</td>\n",
       "      <td>0</td>\n",
       "      <td>145441459.0</td>\n",
       "      <td>145341459.0</td>\n",
       "      <td>-7988.0</td>\n",
       "      <td>176</td>\n",
       "      <td>7</td>\n",
       "    </tr>\n",
       "    <tr>\n",
       "      <th>14</th>\n",
       "      <td>8</td>\n",
       "      <td>181</td>\n",
       "      <td>129300794.0</td>\n",
       "      <td>129300794.0</td>\n",
       "      <td>0</td>\n",
       "      <td>129401213.0</td>\n",
       "      <td>129301213.0</td>\n",
       "      <td>-419.0</td>\n",
       "      <td>136</td>\n",
       "      <td>0</td>\n",
       "    </tr>\n",
       "    <tr>\n",
       "      <th>16</th>\n",
       "      <td>9</td>\n",
       "      <td>62</td>\n",
       "      <td>124491410.0</td>\n",
       "      <td>124491410.0</td>\n",
       "      <td>0</td>\n",
       "      <td>124595110.0</td>\n",
       "      <td>124495110.0</td>\n",
       "      <td>-3700.0</td>\n",
       "      <td>136</td>\n",
       "      <td>0</td>\n",
       "    </tr>\n",
       "    <tr>\n",
       "      <th>17</th>\n",
       "      <td>10</td>\n",
       "      <td>51</td>\n",
       "      <td>130593645.0</td>\n",
       "      <td>130593645.0</td>\n",
       "      <td>0</td>\n",
       "      <td>130694993.0</td>\n",
       "      <td>130594993.0</td>\n",
       "      <td>-1348.0</td>\n",
       "      <td>196</td>\n",
       "      <td>1</td>\n",
       "    </tr>\n",
       "    <tr>\n",
       "      <th>19</th>\n",
       "      <td>11</td>\n",
       "      <td>71</td>\n",
       "      <td>121982296.0</td>\n",
       "      <td>121982296.0</td>\n",
       "      <td>0</td>\n",
       "      <td>122082543.0</td>\n",
       "      <td>121982543.0</td>\n",
       "      <td>-247.0</td>\n",
       "      <td>155</td>\n",
       "      <td>0</td>\n",
       "    </tr>\n",
       "    <tr>\n",
       "      <th>21</th>\n",
       "      <td>12</td>\n",
       "      <td>111</td>\n",
       "      <td>120011033.0</td>\n",
       "      <td>120011033.0</td>\n",
       "      <td>0</td>\n",
       "      <td>120129022.0</td>\n",
       "      <td>120029022.0</td>\n",
       "      <td>-17989.0</td>\n",
       "      <td>140</td>\n",
       "      <td>9</td>\n",
       "    </tr>\n",
       "    <tr>\n",
       "      <th>23</th>\n",
       "      <td>13</td>\n",
       "      <td>82</td>\n",
       "      <td>120319555.0</td>\n",
       "      <td>120319555.0</td>\n",
       "      <td>0</td>\n",
       "      <td>120421639.0</td>\n",
       "      <td>120321639.0</td>\n",
       "      <td>-2084.0</td>\n",
       "      <td>186</td>\n",
       "      <td>0</td>\n",
       "    </tr>\n",
       "    <tr>\n",
       "      <th>26</th>\n",
       "      <td>15</td>\n",
       "      <td>101</td>\n",
       "      <td>103941533.0</td>\n",
       "      <td>103941533.0</td>\n",
       "      <td>0</td>\n",
       "      <td>104043685.0</td>\n",
       "      <td>103943685.0</td>\n",
       "      <td>-2152.0</td>\n",
       "      <td>177</td>\n",
       "      <td>0</td>\n",
       "    </tr>\n",
       "    <tr>\n",
       "      <th>27</th>\n",
       "      <td>16</td>\n",
       "      <td>121</td>\n",
       "      <td>98104996.0</td>\n",
       "      <td>98104996.0</td>\n",
       "      <td>0</td>\n",
       "      <td>98207768.0</td>\n",
       "      <td>98107768.0</td>\n",
       "      <td>-2772.0</td>\n",
       "      <td>186</td>\n",
       "      <td>1</td>\n",
       "    </tr>\n",
       "    <tr>\n",
       "      <th>29</th>\n",
       "      <td>17</td>\n",
       "      <td>161</td>\n",
       "      <td>94886178.0</td>\n",
       "      <td>94886178.0</td>\n",
       "      <td>0</td>\n",
       "      <td>94987271.0</td>\n",
       "      <td>94887271.0</td>\n",
       "      <td>-1093.0</td>\n",
       "      <td>193</td>\n",
       "      <td>0</td>\n",
       "    </tr>\n",
       "    <tr>\n",
       "      <th>31</th>\n",
       "      <td>18</td>\n",
       "      <td>141</td>\n",
       "      <td>90601167.0</td>\n",
       "      <td>90601167.0</td>\n",
       "      <td>0</td>\n",
       "      <td>90702639.0</td>\n",
       "      <td>90602639.0</td>\n",
       "      <td>-1472.0</td>\n",
       "      <td>177</td>\n",
       "      <td>0</td>\n",
       "    </tr>\n",
       "    <tr>\n",
       "      <th>33</th>\n",
       "      <td>19</td>\n",
       "      <td>201</td>\n",
       "      <td>61329822.0</td>\n",
       "      <td>61329822.0</td>\n",
       "      <td>0</td>\n",
       "      <td>61431566.0</td>\n",
       "      <td>61331566.0</td>\n",
       "      <td>-1744.0</td>\n",
       "      <td>131</td>\n",
       "      <td>0</td>\n",
       "    </tr>\n",
       "  </tbody>\n",
       "</table>\n",
       "</div>"
      ],
      "text/plain": [
       "    RefContigID  QryContigID  AlignedLabelPosition  LastReferencePosition  \\\n",
       "0             1           12           195371152.0            195371152.0   \n",
       "2             2           21           182000051.0            182000051.0   \n",
       "4             3           31           159929375.5            159929375.5   \n",
       "8             5          211           151720266.0            151720266.0   \n",
       "10            6           91           149585954.0            149585954.0   \n",
       "12            7          152           145333471.0            145333471.0   \n",
       "14            8          181           129300794.0            129300794.0   \n",
       "16            9           62           124491410.0            124491410.0   \n",
       "17           10           51           130593645.0            130593645.0   \n",
       "19           11           71           121982296.0            121982296.0   \n",
       "21           12          111           120011033.0            120011033.0   \n",
       "23           13           82           120319555.0            120319555.0   \n",
       "26           15          101           103941533.0            103941533.0   \n",
       "27           16          121            98104996.0             98104996.0   \n",
       "29           17          161            94886178.0             94886178.0   \n",
       "31           18          141            90601167.0             90601167.0   \n",
       "33           19          201            61329822.0             61329822.0   \n",
       "\n",
       "    UnpairedReferenceLabels       RefLen  TelomereStart   Offset  \\\n",
       "0                         0  195471971.0    195371971.0   -819.0   \n",
       "2                         0  182113224.0    182013224.0 -13173.0   \n",
       "4                         0  160039680.0    159939680.0 -10304.5   \n",
       "8                         0  151834684.0    151734684.0 -14418.0   \n",
       "10                        0  149736546.0    149636546.0 -50592.0   \n",
       "12                        0  145441459.0    145341459.0  -7988.0   \n",
       "14                        0  129401213.0    129301213.0   -419.0   \n",
       "16                        0  124595110.0    124495110.0  -3700.0   \n",
       "17                        0  130694993.0    130594993.0  -1348.0   \n",
       "19                        0  122082543.0    121982543.0   -247.0   \n",
       "21                        0  120129022.0    120029022.0 -17989.0   \n",
       "23                        0  120421639.0    120321639.0  -2084.0   \n",
       "26                        0  104043685.0    103943685.0  -2152.0   \n",
       "27                        0   98207768.0     98107768.0  -2772.0   \n",
       "29                        0   94987271.0     94887271.0  -1093.0   \n",
       "31                        0   90702639.0     90602639.0  -1472.0   \n",
       "33                        0   61431566.0     61331566.0  -1744.0   \n",
       "\n",
       "    PositiveTelomeres  NegativeTelomeres  \n",
       "0                 146                  0  \n",
       "2                 168                  7  \n",
       "4                 173                  5  \n",
       "8                 115                  9  \n",
       "10                 41                 90  \n",
       "12                176                  7  \n",
       "14                136                  0  \n",
       "16                136                  0  \n",
       "17                196                  1  \n",
       "19                155                  0  \n",
       "21                140                  9  \n",
       "23                186                  0  \n",
       "26                177                  0  \n",
       "27                186                  1  \n",
       "29                193                  0  \n",
       "31                177                  0  \n",
       "33                131                  0  "
      ]
     },
     "metadata": {},
     "output_type": "display_data"
    }
   ],
   "source": [
    "just_contigs = data[[\"RefContigID\",\"QryContigID\",\"AlignedLabelPosition\",\"LastReferencePosition\",\"UnpairedReferenceLabels\"]].drop_duplicates([\"RefContigID\",\"QryContigID\"])\n",
    "\n",
    "from telompy.funcs import fish_last_label, joinpaths\n",
    "master_xmap = fish_last_label(joinpaths(PATH))\n",
    "\n",
    "\n",
    "just_contigs = pd.merge(just_contigs,master_xmap[[\"RefContigID\",\"RefLen\",\"QryContigID\"]],\n",
    "         left_on=[\"RefContigID\",\"QryContigID\"],right_on=[\"RefContigID\",\"QryContigID\"],\n",
    "         )\n",
    "just_contigs[\"TelomereStart\"] = just_contigs[\"RefLen\"] - 100000\n",
    "just_contigs[\"Offset\"] = just_contigs[\"AlignedLabelPosition\"] - just_contigs[\"TelomereStart\"]\n",
    "\n",
    "#lets drop those with unpaired reference labels\n",
    "just_contigs = just_contigs.loc[just_contigs.UnpairedReferenceLabels==0]\n",
    "\n",
    "above_zero =  data.groupby('RefContigID')['TelomereLen_corr'].apply(lambda x: (x > 0).sum())\n",
    "below_zero =  data.groupby('RefContigID')['TelomereLen_corr'].apply(lambda x: (x < 0).sum())\n",
    "above_zero.name = \"PositiveTelomeres\"\n",
    "below_zero.name = \"NegativeTelomeres\"\n",
    "\n",
    "just_contigs = pd.merge(just_contigs,above_zero,left_on=\"RefContigID\",right_index=True,how=\"left\")\n",
    "\n",
    "just_contigs = pd.merge(just_contigs,below_zero,left_on=\"RefContigID\",right_index=True,how=\"left\")\n",
    "\n",
    "display(just_contigs.drop_duplicates([\"RefContigID\",\"Offset\"]))"
   ]
  },
  {
   "cell_type": "code",
   "execution_count": 87,
   "id": "d3305da5",
   "metadata": {},
   "outputs": [
    {
     "data": {
      "text/plain": [
       "<AxesSubplot:xlabel='Offset', ylabel='PositiveTelomeres'>"
      ]
     },
     "execution_count": 87,
     "metadata": {},
     "output_type": "execute_result"
    },
    {
     "data": {
      "image/png": "[encoded data removed]",
      "text/plain": [
       "<Figure size 432x288 with 1 Axes>"
      ]
     },
     "metadata": {
      "needs_background": "light"
     },
     "output_type": "display_data"
    }
   ],
   "source": [
    "sns.regplot(data=just_contigs,x=\"Offset\",y=\"PositiveTelomeres\")"
   ]
  },
  {
   "cell_type": "code",
   "execution_count": 88,
   "id": "b3408e5d",
   "metadata": {},
   "outputs": [
    {
     "data": {
      "text/plain": [
       "<AxesSubplot:xlabel='Offset', ylabel='NegativeTelomeres'>"
      ]
     },
     "execution_count": 88,
     "metadata": {},
     "output_type": "execute_result"
    },
    {
     "data": {
      "image/png": "[encoded data removed]",
      "text/plain": [
       "<Figure size 432x288 with 1 Axes>"
      ]
     },
     "metadata": {
      "needs_background": "light"
     },
     "output_type": "display_data"
    }
   ],
   "source": [
    "sns.regplot(data=just_contigs,x=\"Offset\",y=\"NegativeTelomeres\")"
   ]
  },
  {
   "cell_type": "markdown",
   "id": "61f5f32a",
   "metadata": {},
   "source": [
    "# Offset\n",
    "The bigger the offset, the more negative telomeres. This isn't that unexpected.\n",
    "\n",
    "Let's try to see if there is a correlation between MoleculeConfidence and TelomereLen_corr"
   ]
  },
  {
   "cell_type": "code",
   "execution_count": 47,
   "id": "20181f15",
   "metadata": {},
   "outputs": [
    {
     "data": {
      "text/plain": [
       "<AxesSubplot:xlabel='TelomereLen_corr', ylabel='MoleculeConfidence'>"
      ]
     },
     "execution_count": 47,
     "metadata": {},
     "output_type": "execute_result"
    },
    {
     "data": {
      "image/png": "[encoded data removed]",
      "text/plain": [
       "<Figure size 432x288 with 1 Axes>"
      ]
     },
     "metadata": {
      "needs_background": "light"
     },
     "output_type": "display_data"
    }
   ],
   "source": [
    "sns.regplot(data=data,y=\"MoleculeConfidence\",x=\"TelomereLen_corr\",scatter_kws=dict(s=5))"
   ]
  },
  {
   "cell_type": "markdown",
   "id": "da7ea5e9",
   "metadata": {},
   "source": [
    "Okay, I can see that we have a bunch of telomeres near 0, but we also have a bunch of very negative telomeres. Let's see on which chromosomes we have the biggest (negative) telomeres"
   ]
  },
  {
   "cell_type": "code",
   "execution_count": 50,
   "id": "df51cea6",
   "metadata": {},
   "outputs": [
    {
     "name": "stderr",
     "output_type": "stream",
     "text": [
      "[INFO] Using categorical units to plot a list of strings that are all parsable as floats or dates. If these strings should be plotted as numbers, cast to the appropriate data type before plotting.\n",
      "[INFO] Using categorical units to plot a list of strings that are all parsable as floats or dates. If these strings should be plotted as numbers, cast to the appropriate data type before plotting.\n",
      "C:\\Users\\ivanp\\AppData\\Local\\Temp\\ipykernel_10640\\2414437655.py:17: UserWarning: FixedFormatter should only be used together with FixedLocator\n",
      "  ax.set_yticklabels(formatted_y_ticks)\n"
     ]
    },
    {
     "data": {
      "text/plain": [
       "Text(0, 0.5, '(Negative) TelomereLen_corr')"
      ]
     },
     "execution_count": 50,
     "metadata": {},
     "output_type": "execute_result"
    },
    {
     "data": {
      "image/png": "[encoded data removed]",
      "text/plain": [
       "<Figure size 432x288 with 1 Axes>"
      ]
     },
     "metadata": {
      "needs_background": "light"
     },
     "output_type": "display_data"
    }
   ],
   "source": [
    "negatels = data.loc[data.TelomereLen_corr<0]\n",
    "negatels.TelomereLen_corr = -1 * negatels.TelomereLen_corr\n",
    "\n",
    "def format_size(num):\n",
    "    abs_num = abs(num)\n",
    "    if abs_num >= 1_000_000:\n",
    "        return f\"{num / 1_000_000:.3f} Mbp\"\n",
    "    elif abs_num >= 1_000:\n",
    "        return f\"{num / 1_000:.3f} Kbp\"\n",
    "    else:\n",
    "        return f\"{num} bp\"\n",
    "    \n",
    "ax = sns.boxplot(data=negatels,x=\"RefContigID\",y=\"TelomereLen_corr\")\n",
    "ax.set_yscale(\"log\")\n",
    "y_ticks = ax.get_yticks()\n",
    "formatted_y_ticks = [format_size(tick) for tick in y_ticks]\n",
    "ax.set_yticklabels(formatted_y_ticks)\n",
    "ax.set_ylabel(\"(Negative) TelomereLen_corr\")"
   ]
  },
  {
   "cell_type": "markdown",
   "id": "da9a7fbd",
   "metadata": {},
   "source": [
    "## We have negative length for telomeres when corrected for the offset\n",
    "\n",
    "Let's see the difference between **AlignedLabelPosition** and **ReferencePosition**"
   ]
  },
  {
   "cell_type": "code",
   "execution_count": 21,
   "id": "1d454a42",
   "metadata": {},
   "outputs": [
    {
     "data": {
      "text/html": [
       "<div>\n",
       "<style scoped>\n",
       "    .dataframe tbody tr th:only-of-type {\n",
       "        vertical-align: middle;\n",
       "    }\n",
       "\n",
       "    .dataframe tbody tr th {\n",
       "        vertical-align: top;\n",
       "    }\n",
       "\n",
       "    .dataframe thead th {\n",
       "        text-align: right;\n",
       "    }\n",
       "</style>\n",
       "<table border=\"1\" class=\"dataframe\">\n",
       "  <thead>\n",
       "    <tr style=\"text-align: right;\">\n",
       "      <th></th>\n",
       "      <th>Delta</th>\n",
       "      <th>Offset</th>\n",
       "    </tr>\n",
       "    <tr>\n",
       "      <th>RefContigID</th>\n",
       "      <th></th>\n",
       "      <th></th>\n",
       "    </tr>\n",
       "  </thead>\n",
       "  <tbody>\n",
       "    <tr>\n",
       "      <th>1</th>\n",
       "      <td>0.0 bp</td>\n",
       "      <td>-819.0 bp</td>\n",
       "    </tr>\n",
       "    <tr>\n",
       "      <th>2</th>\n",
       "      <td>0.0 bp</td>\n",
       "      <td>-13.173 Kbp</td>\n",
       "    </tr>\n",
       "    <tr>\n",
       "      <th>3</th>\n",
       "      <td>0.0 bp</td>\n",
       "      <td>-10.305 Kbp</td>\n",
       "    </tr>\n",
       "    <tr>\n",
       "      <th>4</th>\n",
       "      <td>-115.293 Kbp</td>\n",
       "      <td>-56.429 Kbp</td>\n",
       "    </tr>\n",
       "    <tr>\n",
       "      <th>5</th>\n",
       "      <td>0.0 bp</td>\n",
       "      <td>-14.418 Kbp</td>\n",
       "    </tr>\n",
       "    <tr>\n",
       "      <th>6</th>\n",
       "      <td>0.0 bp</td>\n",
       "      <td>-50.592 Kbp</td>\n",
       "    </tr>\n",
       "    <tr>\n",
       "      <th>7</th>\n",
       "      <td>0.0 bp</td>\n",
       "      <td>-7.988 Kbp</td>\n",
       "    </tr>\n",
       "    <tr>\n",
       "      <th>8</th>\n",
       "      <td>0.0 bp</td>\n",
       "      <td>-419.0 bp</td>\n",
       "    </tr>\n",
       "    <tr>\n",
       "      <th>9</th>\n",
       "      <td>0.0 bp</td>\n",
       "      <td>-3.700 Kbp</td>\n",
       "    </tr>\n",
       "    <tr>\n",
       "      <th>10</th>\n",
       "      <td>0.0 bp</td>\n",
       "      <td>-1.348 Kbp</td>\n",
       "    </tr>\n",
       "    <tr>\n",
       "      <th>11</th>\n",
       "      <td>0.0 bp</td>\n",
       "      <td>-247.0 bp</td>\n",
       "    </tr>\n",
       "    <tr>\n",
       "      <th>12</th>\n",
       "      <td>0.0 bp</td>\n",
       "      <td>-17.989 Kbp</td>\n",
       "    </tr>\n",
       "    <tr>\n",
       "      <th>13</th>\n",
       "      <td>0.0 bp</td>\n",
       "      <td>-2.084 Kbp</td>\n",
       "    </tr>\n",
       "    <tr>\n",
       "      <th>14</th>\n",
       "      <td>-22.509 Kbp</td>\n",
       "      <td>-1.762 Kbp</td>\n",
       "    </tr>\n",
       "    <tr>\n",
       "      <th>15</th>\n",
       "      <td>0.0 bp</td>\n",
       "      <td>-2.152 Kbp</td>\n",
       "    </tr>\n",
       "    <tr>\n",
       "      <th>16</th>\n",
       "      <td>0.0 bp</td>\n",
       "      <td>-2.772 Kbp</td>\n",
       "    </tr>\n",
       "    <tr>\n",
       "      <th>17</th>\n",
       "      <td>0.0 bp</td>\n",
       "      <td>-1.093 Kbp</td>\n",
       "    </tr>\n",
       "    <tr>\n",
       "      <th>18</th>\n",
       "      <td>0.0 bp</td>\n",
       "      <td>-1.472 Kbp</td>\n",
       "    </tr>\n",
       "    <tr>\n",
       "      <th>19</th>\n",
       "      <td>0.0 bp</td>\n",
       "      <td>-1.744 Kbp</td>\n",
       "    </tr>\n",
       "    <tr>\n",
       "      <th>20</th>\n",
       "      <td>-868.431 Kbp</td>\n",
       "      <td>-53.035 Kbp</td>\n",
       "    </tr>\n",
       "    <tr>\n",
       "      <th>21</th>\n",
       "      <td>-34.450 Kbp</td>\n",
       "      <td>-803.472 Kbp</td>\n",
       "    </tr>\n",
       "  </tbody>\n",
       "</table>\n",
       "</div>"
      ],
      "text/plain": [
       "                    Delta        Offset\n",
       "RefContigID                            \n",
       "1                  0.0 bp     -819.0 bp\n",
       "2                  0.0 bp   -13.173 Kbp\n",
       "3                  0.0 bp   -10.305 Kbp\n",
       "4            -115.293 Kbp   -56.429 Kbp\n",
       "5                  0.0 bp   -14.418 Kbp\n",
       "6                  0.0 bp   -50.592 Kbp\n",
       "7                  0.0 bp    -7.988 Kbp\n",
       "8                  0.0 bp     -419.0 bp\n",
       "9                  0.0 bp    -3.700 Kbp\n",
       "10                 0.0 bp    -1.348 Kbp\n",
       "11                 0.0 bp     -247.0 bp\n",
       "12                 0.0 bp   -17.989 Kbp\n",
       "13                 0.0 bp    -2.084 Kbp\n",
       "14            -22.509 Kbp    -1.762 Kbp\n",
       "15                 0.0 bp    -2.152 Kbp\n",
       "16                 0.0 bp    -2.772 Kbp\n",
       "17                 0.0 bp    -1.093 Kbp\n",
       "18                 0.0 bp    -1.472 Kbp\n",
       "19                 0.0 bp    -1.744 Kbp\n",
       "20           -868.431 Kbp   -53.035 Kbp\n",
       "21            -34.450 Kbp  -803.472 Kbp"
      ]
     },
     "metadata": {},
     "output_type": "display_data"
    }
   ],
   "source": [
    "difference = data.drop_duplicates(\"RefContigID\")\n",
    "difference[\"Delta\"] = difference.LastReferencePosition - difference.AlignedLabelPosition\n",
    "\n",
    "master_xmap = fish_last_label(joinpaths(PATH))\n",
    "\n",
    "difference = pd.merge(difference,master_xmap[[\"RefContigID\",\"RefLen\"]],\n",
    "                     left_on=\"RefContigID\",right_on=\"RefContigID\",how=\"left\")\n",
    "\n",
    "\n",
    "difference[\"TelomereStart\"] = difference[\"RefLen\"] - 100000\n",
    "difference[\"Offset\"] = difference[\"AlignedLabelPosition\"] - difference[\"TelomereStart\"]\n",
    "\n",
    "def format_size(num):\n",
    "    abs_num = abs(num)\n",
    "    if abs_num >= 1_000_000:\n",
    "        return f\"{num / 1_000_000:.3f} Mbp\"\n",
    "    elif abs_num >= 1_000:\n",
    "        return f\"{num / 1_000:.3f} Kbp\"\n",
    "    else:\n",
    "        return f\"{num} bp\"\n",
    "\n",
    "difference = difference[[\"RefContigID\",\"Delta\",\"Offset\"]].set_index(\"RefContigID\").drop_duplicates()\n",
    "displayable = difference.applymap(format_size)\n",
    "display(displayable)"
   ]
  },
  {
   "cell_type": "markdown",
   "id": "ee64b008",
   "metadata": {},
   "source": [
    "In the above:\n",
    "The difference `Delta` is the difference between last label on the chromosome and the last ALIGNED label on chromosome.\n",
    "The difference `Offset` is the difference between the last ALIGNED label on chromosme and the start of annotated telomere.\n",
    "\n"
   ]
  },
  {
   "cell_type": "markdown",
   "id": "4f8f987d",
   "metadata": {},
   "source": [
    "Let's check the average length of telomeres by the chromosome.\n"
   ]
  },
  {
   "cell_type": "code",
   "execution_count": 43,
   "id": "25f02485",
   "metadata": {},
   "outputs": [
    {
     "name": "stderr",
     "output_type": "stream",
     "text": [
      "[INFO] Using categorical units to plot a list of strings that are all parsable as floats or dates. If these strings should be plotted as numbers, cast to the appropriate data type before plotting.\n",
      "[INFO] Using categorical units to plot a list of strings that are all parsable as floats or dates. If these strings should be plotted as numbers, cast to the appropriate data type before plotting.\n",
      "[INFO] Using categorical units to plot a list of strings that are all parsable as floats or dates. If these strings should be plotted as numbers, cast to the appropriate data type before plotting.\n",
      "[INFO] Using categorical units to plot a list of strings that are all parsable as floats or dates. If these strings should be plotted as numbers, cast to the appropriate data type before plotting.\n",
      "C:\\Users\\ivanp\\AppData\\Local\\Temp\\ipykernel_10640\\1934036563.py:8: UserWarning: FixedFormatter should only be used together with FixedLocator\n",
      "  ax.set_yticklabels(formatted_y_ticks)\n"
     ]
    },
    {
     "data": {
      "text/plain": [
       "[Text(0, 10.0, '10.0 bp'),\n",
       " Text(0, 100.0, '100.0 bp'),\n",
       " Text(0, 1000.0, '1.000 Kbp'),\n",
       " Text(0, 10000.0, '10.000 Kbp'),\n",
       " Text(0, 100000.0, '100.000 Kbp'),\n",
       " Text(0, 1000000.0, '1.000 Mbp'),\n",
       " Text(0, 10000000.0, '10.000 Mbp'),\n",
       " Text(0, 100000000.0, '100.000 Mbp')]"
      ]
     },
     "execution_count": 43,
     "metadata": {},
     "output_type": "execute_result"
    },
    {
     "data": {
      "image/png": "[encoded data removed]",
      "text/plain": [
       "<Figure size 432x288 with 1 Axes>"
      ]
     },
     "metadata": {
      "needs_background": "light"
     },
     "output_type": "display_data"
    }
   ],
   "source": [
    "ax = sns.boxplot(x='RefContigID', y='TelomereLen', data=data)\n",
    "sns.barplot(x=difference.index, y=abs(difference['Offset']), color='Grey',ax=ax,alpha=0.5,zorder=3)\n",
    "#sns.pointplot(data=difference,x=difference.index,y=abs(difference[\"Offset\"]),color=\"red\",ax=ax,zorder=0,markers='')\n",
    "# Get the current y-ticks and format them\n",
    "ax.set_yscale(\"log\")\n",
    "y_ticks = ax.get_yticks()\n",
    "formatted_y_ticks = [format_size(tick) for tick in y_ticks]\n",
    "ax.set_yticklabels(formatted_y_ticks)\n",
    "\n"
   ]
  },
  {
   "cell_type": "code",
   "execution_count": 39,
   "id": "8fa8b7c8",
   "metadata": {},
   "outputs": [
    {
     "name": "stderr",
     "output_type": "stream",
     "text": [
      "[INFO] Using categorical units to plot a list of strings that are all parsable as floats or dates. If these strings should be plotted as numbers, cast to the appropriate data type before plotting.\n",
      "[INFO] Using categorical units to plot a list of strings that are all parsable as floats or dates. If these strings should be plotted as numbers, cast to the appropriate data type before plotting.\n",
      "[INFO] Using categorical units to plot a list of strings that are all parsable as floats or dates. If these strings should be plotted as numbers, cast to the appropriate data type before plotting.\n",
      "[INFO] Using categorical units to plot a list of strings that are all parsable as floats or dates. If these strings should be plotted as numbers, cast to the appropriate data type before plotting.\n",
      "C:\\Users\\ivanp\\AppData\\Local\\Temp\\ipykernel_10640\\2154712621.py:8: UserWarning: FixedFormatter should only be used together with FixedLocator\n",
      "  ax.set_yticklabels(formatted_y_ticks)\n"
     ]
    },
    {
     "data": {
      "text/plain": [
       "[Text(0, 10.0, '10.0 bp'),\n",
       " Text(0, 100.0, '100.0 bp'),\n",
       " Text(0, 1000.0, '1.000 Kbp'),\n",
       " Text(0, 10000.0, '10.000 Kbp'),\n",
       " Text(0, 100000.0, '100.000 Kbp'),\n",
       " Text(0, 1000000.0, '1.000 Mbp'),\n",
       " Text(0, 10000000.0, '10.000 Mbp'),\n",
       " Text(0, 100000000.0, '100.000 Mbp')]"
      ]
     },
     "execution_count": 39,
     "metadata": {},
     "output_type": "execute_result"
    },
    {
     "data": {
      "image/png": "[encoded data removed]",
      "text/plain": [
       "<Figure size 432x288 with 1 Axes>"
      ]
     },
     "metadata": {
      "needs_background": "light"
     },
     "output_type": "display_data"
    }
   ],
   "source": [
    "ax = sns.boxplot(x='RefContigID', y='TelomereLen', data=data)\n",
    "sns.barplot(x=difference.index, y=abs(difference['Delta']), color='Grey',ax=ax,alpha=0.5,zorder=3)\n",
    "#sns.pointplot(data=difference,x=difference.index,y=abs(difference[\"Offset\"]),color=\"red\",ax=ax,zorder=0,markers='')\n",
    "# Get the current y-ticks and format them\n",
    "ax.set_yscale(\"log\")\n",
    "y_ticks = ax.get_yticks()\n",
    "formatted_y_ticks = [format_size(tick) for tick in y_ticks]\n",
    "ax.set_yticklabels(formatted_y_ticks)\n"
   ]
  },
  {
   "cell_type": "markdown",
   "id": "386b327f",
   "metadata": {},
   "source": [
    "The first graph is distribution of telomere lengths with difference between **aligned last label** and annotated telomere position.\n",
    "The second graph is the distribution of telomere lengths with difference between **last label** and **aligned last label**.\n",
    "\n",
    "The most of our chroms, last aligned label is also the last aligned label. Exceptions are chromosomes 4,14,20,21."
   ]
  },
  {
   "cell_type": "code",
   "execution_count": null,
   "id": "d185da99",
   "metadata": {},
   "outputs": [],
   "source": []
  }
 ],
 "metadata": {
  "kernelspec": {
   "display_name": "Python 3 (ipykernel)",
   "language": "python",
   "name": "python3"
  },
  "language_info": {
   "codemirror_mode": {
    "name": "ipython",
    "version": 3
   },
   "file_extension": ".py",
   "mimetype": "text/x-python",
   "name": "python",
   "nbconvert_exporter": "python",
   "pygments_lexer": "ipython3",
   "version": "3.8.12"
  }
 },
 "nbformat": 4,
 "nbformat_minor": 5
}
